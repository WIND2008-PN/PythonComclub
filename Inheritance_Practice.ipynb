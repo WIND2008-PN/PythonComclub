{
 "cells": [
  {
   "cell_type": "markdown",
   "id": "295647a0",
   "metadata": {},
   "source": [
    "# 🧪 Inheritance Practice Notebook with Expected Output\n",
    "\n",
    "This notebook gives you short practice tasks to reinforce your understanding of **inheritance** in Python.\n",
    "Each task includes an example and the **expected output** so you can check your work."
   ]
  },
  {
   "cell_type": "markdown",
   "id": "4d7905ea",
   "metadata": {},
   "source": [
    "## ✅ Practice 1: Basic Inheritance\n",
    "\n",
    "Create a class `Person` with an attribute `name` and a method `greet()` that prints a greeting.\n",
    "Then create a class `Teacher` that inherits from `Person` and adds a method `teach()`."
   ]
  },
  {
   "cell_type": "code",
   "execution_count": 7,
   "id": "55de79c8",
   "metadata": {},
   "outputs": [
    {
     "name": "stdout",
     "output_type": "stream",
     "text": [
      "Hi, my name is Alice.\n",
      "Hi, my name is Bob.\n",
      "I'm teaching a class.\n"
     ]
    }
   ],
   "source": [
    "# Your code here\n",
    "class Person:\n",
    "    def __init__(self, name):\n",
    "        self.name = name\n",
    "\n",
    "    def greet(self):\n",
    "        print(f\"Hi, my name is {self.name}.\")\n",
    "        \n",
    "\n",
    "class Teacher(Person):\n",
    "    def __init__(self, name):\n",
    "        super().__init__(name)\n",
    "\n",
    "    def teach(self):\n",
    "        print(\"I'm teaching a class.\")\n",
    "        \n",
    "t = Teacher(\"Bob\")\n",
    "p = Person(\"Alice\")\n",
    "\n",
    "p.greet()\n",
    "t.greet()\n",
    "t.teach()\n",
    "\n",
    "\n",
    "# Example:\n",
    "# p = Person(\"Alice\")\n",
    "# t = Teacher(\"Bob\")\n",
    "# p.greet()\n",
    "# t.greet()\n",
    "# t.teach()\n",
    "\n",
    "# Expected Output:\n",
    "# Hello, my name is Alice.\n",
    "# Hello, my name is Bob.\n",
    "# I'm teaching a class.\n"
   ]
  },
  {
   "cell_type": "markdown",
   "id": "92400f07",
   "metadata": {},
   "source": [
    "## ✅ Practice 2: Using `super()`\n",
    "\n",
    "Create a class `Employee` with attributes `name` and `salary`.\n",
    "Then create a subclass `Manager` that also takes a `department` and uses `super()` to initialize base attributes."
   ]
  },
  {
   "cell_type": "code",
   "execution_count": 11,
   "id": "b8bed115",
   "metadata": {},
   "outputs": [
    {
     "name": "stdout",
     "output_type": "stream",
     "text": [
      "Bob 3000\n",
      "Carol 70000 HR\n",
      "Alice 50000\n"
     ]
    }
   ],
   "source": [
    "# Your code here\n",
    "class Employee:\n",
    "    def __init__ (self, name, salary):\n",
    "        self.name = name\n",
    "        self.salary = salary\n",
    "        \n",
    "class Person(Employee):\n",
    "    def __init__(self, name, money):\n",
    "        self.money = money\n",
    "        super().__init__(name, money)\n",
    "        \n",
    "class Manager(Employee):\n",
    "    def __init__(self, name, salary, department):\n",
    "        super().__init__(name, salary)\n",
    "        self.department = department\n",
    "        \n",
    "P = Person(\"Bob\", 3000)\n",
    "E = Employee(\"Alice\", 50000)        \n",
    "M = Manager(\"Carol\" , 70000, \"HR\")\n",
    "\n",
    "print(P.name, P.money)\n",
    "print(M.name, M.salary, M.department)\n",
    "print(E.name, E.salary)\n",
    "\n",
    "# Example:\n",
    "# m = Manager(\"Carol\", 70000, \"Sales\")\n",
    "# print(m.name, m.salary, m.department)\n",
    "\n",
    "# Expected Output:\n",
    "# Carol 70000 Sales\n"
   ]
  },
  {
   "cell_type": "markdown",
   "id": "ed84f62e",
   "metadata": {},
   "source": [
    "## ✅ Practice 3: Override a Method\n",
    "\n",
    "Add a `describe()` method to `Employee` that prints name and salary.\n",
    "Then override it in `Manager` to also include the department."
   ]
  },
  {
   "cell_type": "code",
   "execution_count": null,
   "id": "8b0b69c4",
   "metadata": {},
   "outputs": [
    {
     "name": "stdout",
     "output_type": "stream",
     "text": [
      "Name: Bob, Salary: 3000\n",
      "Name: Alice, Salary: 50000\n",
      "Bob 3000\n",
      "David 80000 Marketing\n",
      "Alice 50000\n"
     ]
    }
   ],
   "source": [
    "# Your code here\n",
    "class Employee:\n",
    "    def __init__ (self, name, salary):\n",
    "        self.name = name\n",
    "        self.salary = salary\n",
    "        \n",
    "    def describe(self):\n",
    "        print(f\"Name: {self.name}, Salary: {self.salary}\")\n",
    "        \n",
    "        \n",
    "class Person(Employee):\n",
    "    def __init__(self, name, money):\n",
    "        self.money = money\n",
    "        super().__init__(name, money)\n",
    "        \n",
    "class Manager(Employee):\n",
    "    def __init__(self, name, salary, department):\n",
    "        super().__init__(name, salary)\n",
    "        self.department = department\n",
    "class Devperson(Employee):\n",
    "    def __init__(self, name, salary, lang):\n",
    "        super().__init__(name, salary)\n",
    "        self.lang = lang\n",
    "        \n",
    "P = Person(\"Bob\", 3000)\n",
    "E = Employee(\"Alice\", 50000)        \n",
    "M = Manager(\"David\" , 80000, \"Marketing\")\n",
    "D = Devperson(\"Eve\", 60000, \"Python\")\n",
    "\n",
    "P.describe()\n",
    "E.describe()\n",
    "\n",
    "print(P.name, P.money)\n",
    "print(M.name, M.salary, M.department)\n",
    "print(E.name, E.salary)\n",
    "\n",
    "# Example:\n",
    "# m = Manager(\"David\", 80000, \"Marketing\")\n",
    "# m.describe()\n",
    "\n",
    "# Expected Output:\n",
    "# Name: David, Salary: 80000, Department: Marketing\n"
   ]
  },
  {
   "cell_type": "markdown",
   "id": "2e683e00",
   "metadata": {},
   "source": [
    "## ✅ Practice 4: Add New Behavior to Subclass\n",
    "\n",
    "In your `Manager` class, add a method `conduct_meeting()` that prints a message like \"Meeting for [department] started.\""
   ]
  },
  {
   "cell_type": "code",
   "execution_count": 16,
   "id": "abc696e2",
   "metadata": {},
   "outputs": [
    {
     "name": "stdout",
     "output_type": "stream",
     "text": [
      "Meeting for Marketing started.\n"
     ]
    }
   ],
   "source": [
    "# Your code here\n",
    "class Manager(Employee):\n",
    "    \n",
    "    def __init__(self, name, salary, department):\n",
    "        super().__init__(name, salary)\n",
    "        self.department = department\n",
    "\n",
    "    def describe(self):\n",
    "        print(f\"Meeting for {self.department} started.\")\n",
    "    \n",
    "m = Manager(\"David\", 80000, \"Marketing\")\n",
    "\n",
    "def conduct_meeting(self):\n",
    "        self.describe()\n",
    "        \n",
    "m.describe()\n",
    "        \n",
    "# Example:\n",
    "# m.conduct_meeting()\n",
    "\n",
    "# Expected Output:\n",
    "# Meeting for Marketing started.\n"
   ]
  },
  {
   "cell_type": "markdown",
   "id": "a72e1c7a",
   "metadata": {},
   "source": [
    "## ✅ Practice 5: Polymorphism\n",
    "\n",
    "Create a list of `Employee` and `Manager` objects. Use a loop to call `describe()` on each one.\n",
    "Each object should respond differently based on its class."
   ]
  },
  {
   "cell_type": "code",
   "execution_count": 17,
   "id": "4167cdad",
   "metadata": {},
   "outputs": [
    {
     "name": "stdout",
     "output_type": "stream",
     "text": [
      "Name: Anna, Salary: 50000\n",
      "Name: Eve, Salary: 90000\n",
      "Department: HR\n"
     ]
    }
   ],
   "source": [
    "# Your code here\n",
    "class Employee:\n",
    "    def __init__(self, name, salary):\n",
    "        self.name = name\n",
    "        self.salary = salary\n",
    "        \n",
    "    def describe(self):\n",
    "        print(f\"Name: {self.name}, Salary: {self.salary}\")\n",
    "\n",
    "class Manager(Employee):\n",
    "    def __init__(self, name, salary, department):\n",
    "        super().__init__(name, salary)\n",
    "        self.department = department\n",
    "        \n",
    "    def describe(self):\n",
    "        super().describe()\n",
    "        print(f\"Department: {self.department}\")\n",
    "        \n",
    "employees = [Employee(\"Anna\", 50000), Manager(\"Eve\", 90000, \"HR\")]\n",
    "for e in employees:\n",
    "    e.describe()\n",
    "\n",
    "# Example:\n",
    "# employees = [Employee(\"Anna\", 50000), Manager(\"Eve\", 90000, \"HR\")]\n",
    "# for e in employees:\n",
    "#     e.describe()\n",
    "\n",
    "# Expected Output:\n",
    "# Name: Anna, Salary: 50000\n",
    "# Name: Eve, Salary: 90000, Department: HR\n"
   ]
  },
  {
   "cell_type": "markdown",
   "id": "8162f278",
   "metadata": {},
   "source": [
    "## 🎉 You're Done!\n",
    "Great work practicing inheritance, `super()`, method overriding, subclassing, and polymorphism.\n",
    "\n",
    "Try changing the data or adding new features to explore more."
   ]
  }
 ],
 "metadata": {
  "kernelspec": {
   "display_name": "Python 3",
   "language": "python",
   "name": "python3"
  },
  "language_info": {
   "codemirror_mode": {
    "name": "ipython",
    "version": 3
   },
   "file_extension": ".py",
   "mimetype": "text/x-python",
   "name": "python",
   "nbconvert_exporter": "python",
   "pygments_lexer": "ipython3",
   "version": "3.13.5"
  }
 },
 "nbformat": 4,
 "nbformat_minor": 5
}
