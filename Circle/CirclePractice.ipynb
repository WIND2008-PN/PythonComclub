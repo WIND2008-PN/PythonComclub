{
 "cells": [
  {
   "cell_type": "markdown",
   "metadata": {},
   "source": [
    "# 🔵 Practice: Circle Touch Checker (OOP)\n",
    "**Goal:** Create a `Circle` class and write a method to check if two circles touch or overlap.\n",
    "\n",
    "**Concepts:** Classes, Pythagorean theorem, object interaction"
   ]
  },
  {
   "cell_type": "markdown",
   "metadata": {},
   "source": [
    "### ✅ Your Tasks\n",
    "- Implement the constructor `__init__()` with parameters `x`, `y`, and `radius`\n",
    "- Implement the `touches()` method:\n",
    "  - Compute distance using: `((x1 - x2)**2 + (y1 - y2)**2)**0.5`\n",
    "  - Return `True` if the distance is **less than or equal to** the sum of the radii\n",
    "- Try multiple test cases with different distances and radii\n",
    "\n",
    "**Bonus:** Add a method `overlaps()` that returns `True` only if circles actually overlap (not just touch)"
   ]
  },
  {
   "cell_type": "code",
   "execution_count": null,
   "metadata": {},
   "outputs": [],
   "source": [
    "# 👉 Step 1: Define your Circle class\n",
    "# - It should store x, y, and radius\n",
    "# - Write a method `touches()` that takes another Circle and returns True if the circles touch or overlap\n",
    "# - You can calculate distance without using math module:\n",
    "#   distance = ((x1 - x2)**2 + (y1 - y2)**2)**0.5\n",
    "\n",
    "# TODO: Start your class below\n",
    "class Circle:\n",
    "    # Write your constructor here\n",
    "    # def __init__(...):\n",
    "\n",
    "    def touches(self, other):\n",
    "        # Compute distance between centers\n",
    "        # Compare to sum of radii\n",
    "        pass"
   ]
  },
  {
   "cell_type": "code",
   "execution_count": null,
   "metadata": {},
   "outputs": [],
   "source": [
    "# 🧪 Step 2: Try it out\n",
    "# Create circles and test touching / overlapping\n",
    "c1 = Circle(0, 0, 5)\n",
    "c2 = Circle(6, 0, 4)\n",
    "c3 = Circle(20, 0, 1)\n",
    "\n",
    "print(\"c1 touches c2:\", c1.touches(c2))  # Expect True\n",
    "print(\"c1 touches c3:\", c1.touches(c3))  # Expect False"
   ]
  }
 ],
 "metadata": {
  "kernelspec": {
   "display_name": "Python 3",
   "language": "python",
   "name": "python3"
  },
  "language_info": {
   "name": "python",
   "version": "3.x"
  }
 },
 "nbformat": 4,
 "nbformat_minor": 2
}
